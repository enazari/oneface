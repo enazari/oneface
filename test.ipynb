{
 "cells": [
  {
   "cell_type": "code",
   "execution_count": 29,
   "metadata": {
    "collapsed": true,
    "pycharm": {
     "name": "#%%\n"
    }
   },
   "outputs": [],
   "source": [
    "import numpy as np\n",
    "import pandas as pd"
   ]
  },
  {
   "cell_type": "code",
   "execution_count": 44,
   "outputs": [],
   "source": [
    "def f(fname):\n",
    "    train = pd.read_csv(fname)\n",
    "    lines = [i[0].split('\\t')  for i in train.values]\n",
    "    identities = []\n",
    "    for i, v in enumerate(lines):\n",
    "        identities.append(v[0])\n",
    "\n",
    "        if i >= len(lines)/2:\n",
    "            identities.append(v[2])\n",
    "\n",
    "    identities = set(identities)\n",
    "    return identities\n",
    "\n"
   ],
   "metadata": {
    "collapsed": false,
    "pycharm": {
     "name": "#%%\n"
    }
   }
  },
  {
   "cell_type": "code",
   "execution_count": 45,
   "outputs": [
    {
     "data": {
      "text/plain": "2132"
     },
     "execution_count": 45,
     "metadata": {},
     "output_type": "execute_result"
    }
   ],
   "source": [
    "len(f('datasets/pairsDevTrain.txt'))"
   ],
   "metadata": {
    "collapsed": false,
    "pycharm": {
     "name": "#%%\n"
    }
   }
  },
  {
   "cell_type": "code",
   "execution_count": 46,
   "outputs": [
    {
     "data": {
      "text/plain": "963"
     },
     "execution_count": 46,
     "metadata": {},
     "output_type": "execute_result"
    }
   ],
   "source": [
    "len(f('datasets/pairsDevTest.txt') )"
   ],
   "metadata": {
    "collapsed": false,
    "pycharm": {
     "name": "#%%\n"
    }
   }
  },
  {
   "cell_type": "code",
   "execution_count": 47,
   "outputs": [],
   "source": [
    "d = np.load('datasets/lfw_facenet_casia_embeddings.npz')"
   ],
   "metadata": {
    "collapsed": false,
    "pycharm": {
     "name": "#%%\n"
    }
   }
  },
  {
   "cell_type": "code",
   "execution_count": 48,
   "outputs": [
    {
     "data": {
      "text/plain": "['the_rest_faces',\n 'one_face_per_identity',\n 'all_faces',\n 'test',\n 'train',\n 'folds']"
     },
     "execution_count": 48,
     "metadata": {},
     "output_type": "execute_result"
    }
   ],
   "source": [
    "d.files"
   ],
   "metadata": {
    "collapsed": false,
    "pycharm": {
     "name": "#%%\n"
    }
   }
  },
  {
   "cell_type": "code",
   "execution_count": 49,
   "outputs": [],
   "source": [
    "m = d['all_faces']"
   ],
   "metadata": {
    "collapsed": false,
    "pycharm": {
     "name": "#%%\n"
    }
   }
  },
  {
   "cell_type": "code",
   "execution_count": 77,
   "outputs": [
    {
     "data": {
      "text/plain": "array([[-4.01412994e-02, -6.76252693e-02, -1.07014179e-01,\n        -1.49755040e-02,  9.53948870e-03, -2.44739056e-02,\n        -1.41013591e-02, -5.58214821e-02,  1.56139964e-02,\n         9.07431021e-02,  2.31825355e-02, -7.95188695e-02,\n        -7.21592233e-02,  2.30350383e-02, -5.61099201e-02,\n        -3.63212489e-02, -1.01731606e-02, -8.05239007e-02,\n        -1.43156918e-02, -4.84083295e-02, -2.19912063e-02,\n         5.19072078e-02,  6.21469431e-02, -3.86830308e-02,\n        -8.44813064e-02,  2.55361572e-02, -3.60347377e-03,\n        -4.99024894e-03, -4.24351990e-02, -3.45781744e-02,\n         2.60616876e-02,  5.82402833e-02, -1.01520993e-01,\n         8.67720693e-03,  1.86722428e-02,  2.16009822e-02,\n         9.25245509e-02,  1.24699455e-02, -1.50274683e-03,\n         1.69337913e-02,  1.09865898e-02,  9.86260083e-03,\n         2.17918362e-02,  3.79500426e-02, -5.33574298e-02,\n         6.47757500e-02, -1.42117525e-02,  2.26502176e-02,\n        -3.54172662e-02,  3.52412164e-02,  4.02741916e-02,\n        -2.21563801e-02, -6.18529320e-02,  9.42766145e-02,\n        -2.89901569e-02, -6.95017725e-02, -5.22226803e-02,\n        -1.03061169e-01,  7.05367550e-02,  8.94335005e-03,\n         4.97279689e-02, -2.91459169e-03, -1.23615684e-02,\n         4.38057445e-02, -5.29168658e-02,  9.73476097e-03,\n         3.17893736e-02, -1.68389361e-02,  3.68401296e-02,\n         1.48541774e-04,  2.86582708e-02, -1.14570912e-02,\n        -9.16122645e-02, -8.49087611e-02, -5.60749881e-03,\n        -2.29830518e-02,  5.79302199e-02, -6.41760305e-02,\n         2.14395556e-03, -5.47059923e-02,  4.87606302e-02,\n         2.96737943e-02, -3.36836167e-02,  6.94743097e-02,\n         1.21123502e-02, -1.59958564e-02,  4.08014059e-02,\n         5.81398122e-02,  3.45233418e-02,  1.46068726e-02,\n         3.27390432e-02, -1.10528693e-02,  3.47335637e-02,\n        -1.50102759e-02, -9.26076528e-03,  5.26786316e-03,\n         2.70738062e-02, -9.41343978e-03,  2.27410141e-02,\n         6.37780055e-02,  3.92267667e-02, -1.02604665e-01,\n         3.11428197e-02,  1.95011206e-04, -7.97295664e-03,\n        -3.00064944e-02, -5.89138456e-02, -2.57729702e-02,\n         2.93174898e-03,  6.18163794e-02, -2.71425396e-02,\n        -3.03733665e-02,  5.31676784e-02,  5.29178418e-02,\n         8.13052952e-02,  5.52964620e-02, -7.32403249e-02,\n        -1.68290548e-02, -8.18201527e-03,  7.15556666e-02,\n        -8.81967042e-03, -6.66197762e-02,  1.26128020e-02,\n        -3.19289304e-02,  4.13006581e-02,  4.97703850e-02,\n        -6.49031922e-02,  1.11425202e-02, -4.70559038e-02,\n         5.64015582e-02, -5.64735122e-02,  2.84658670e-02,\n         3.02668456e-02,  9.61999595e-02,  3.84654664e-02,\n         1.61368251e-02,  4.67566624e-02, -2.15692591e-04,\n        -1.15337610e-01,  5.48988804e-02, -4.81793890e-03,\n         8.51319730e-02, -1.01970404e-03, -9.82021540e-03,\n        -4.13262174e-02,  1.23343365e-02,  6.97953552e-02,\n        -2.75776517e-02, -4.30152006e-03, -4.39248793e-02,\n         3.00286189e-02,  3.86118479e-02,  4.57588844e-02,\n        -3.92548367e-02,  4.91010435e-02, -7.29165331e-04,\n        -1.34816254e-02, -1.77391395e-02, -3.49443704e-02,\n        -3.42402346e-02, -3.59123237e-02,  1.19790854e-02,\n         4.36114557e-02,  2.98411548e-02, -3.74640264e-02,\n         3.19024362e-02,  3.46932970e-02,  2.19930559e-02,\n        -9.39829275e-02, -5.94485477e-02, -1.08692050e-01,\n         2.46759858e-02,  3.54963876e-02, -9.21003148e-02,\n         2.55774725e-02, -3.91750708e-02, -3.50446925e-02,\n        -3.87206022e-03, -1.44927576e-02,  3.49878035e-02,\n        -6.18836507e-02,  9.57648456e-03, -1.52228530e-02,\n        -2.50607710e-02, -1.50833959e-02, -1.83546897e-02,\n        -3.59033123e-02,  1.60356723e-02,  6.84458704e-04,\n        -9.74600241e-02,  2.54765581e-02,  4.62806746e-02,\n         1.88480858e-02, -3.04842461e-02,  7.80969858e-02,\n         9.27415583e-03,  9.68002714e-03,  2.83384342e-02,\n        -3.07690278e-02,  1.54149830e-02,  9.09325927e-02,\n         1.57869384e-02, -3.93694788e-02, -5.75342178e-02,\n         2.85655800e-02,  6.20930865e-02,  1.56593900e-02,\n        -6.87157037e-03, -4.76023592e-02,  7.18037486e-02,\n         8.16445053e-03,  2.97491578e-03, -1.63941309e-02,\n        -2.27987468e-02,  2.41948348e-02, -2.70364322e-02,\n         3.08982581e-02,  5.50085604e-02,  3.61547829e-03,\n        -4.92875129e-02, -2.44402625e-02,  1.18564786e-02,\n         1.18030244e-02,  1.74863767e-02,  5.34880571e-02,\n        -3.05768829e-02,  1.39174294e-02, -3.06548476e-02,\n         9.86661464e-02, -2.30781902e-02,  3.88296433e-02,\n         2.21809912e-02, -1.66366715e-02, -9.04710218e-03,\n         2.27308236e-02, -2.34981766e-03,  5.32293431e-02,\n        -3.24733704e-02, -2.73706429e-02,  2.53253919e-03,\n         5.19481227e-02, -1.03064151e-02,  1.84232388e-02,\n         4.34082784e-02, -5.15310578e-02, -3.53023298e-02,\n        -5.72350668e-03,  4.99636270e-02, -4.03273329e-02,\n        -3.13599631e-02, -6.83451146e-02,  7.49088302e-02,\n        -9.05998647e-02,  6.19361289e-02, -7.31455162e-02,\n        -4.53695469e-02, -4.89363112e-02,  3.36501077e-02,\n         1.21495249e-02,  4.05758573e-03, -4.65505421e-02,\n        -5.75570390e-02, -6.94725513e-02,  1.15278233e-02,\n        -1.08328555e-02, -6.97844138e-04,  3.81274857e-02,\n         1.23540452e-02,  2.93580629e-02, -3.03703230e-02,\n         2.14581396e-02,  6.13371516e-03,  3.26450802e-02,\n         3.82338688e-02, -9.70564112e-02,  2.77541131e-02,\n        -5.21495864e-02,  7.54304826e-02, -4.10709120e-02,\n        -2.88289096e-02,  4.82752137e-02,  4.35550958e-02,\n         3.49846967e-02,  1.11683192e-04, -3.59774753e-02,\n         5.26797250e-02,  4.14353721e-02, -6.74720109e-02,\n         5.07059246e-02,  3.19895409e-02,  5.48061635e-03,\n        -1.17638232e-02, -4.56625372e-02, -2.65684053e-02,\n         2.27878653e-02, -5.79794608e-02,  2.02339888e-02,\n        -1.34157846e-02, -4.80840867e-03, -1.43294437e-02,\n        -3.11842784e-02, -5.37121668e-02,  2.62336284e-02,\n         4.42008674e-03, -9.91148502e-03,  9.26586762e-02,\n         4.62615862e-02,  4.29869406e-02, -4.27683257e-03,\n         6.64147828e-03, -1.10662626e-02,  8.08502268e-03,\n        -5.00223925e-03, -3.31754349e-02,  2.15354394e-02,\n         7.10862409e-03,  7.05002667e-03,  9.36286990e-03,\n        -1.85127854e-02,  2.58894209e-02, -6.34205639e-02,\n        -3.36996429e-02,  3.06214299e-02, -2.60970592e-02,\n         7.25237131e-02, -5.40450104e-02, -4.26867306e-02,\n        -8.82806107e-02, -9.97304246e-02, -2.64081601e-02,\n         1.30869457e-02,  2.01234724e-02,  1.68530401e-02,\n         2.99258158e-02,  1.32498778e-02,  4.97515174e-03,\n         3.14876288e-02,  3.15695046e-03, -3.09808422e-02,\n        -1.03794463e-01,  5.12510724e-03,  9.66088939e-03,\n         5.96941784e-02,  2.04379149e-02, -7.22392835e-03,\n         7.76309296e-02, -4.28085364e-02, -2.36632116e-02,\n        -2.90666129e-02, -3.49159427e-02,  6.74234098e-03,\n         5.62831722e-02,  4.95204283e-03, -3.22893402e-03,\n         5.61516220e-03, -5.61747774e-02,  3.52330320e-02,\n        -3.99498753e-02, -5.52383028e-02,  1.48301143e-02,\n        -8.00922979e-03, -3.45012210e-02,  5.27278185e-02,\n        -3.80223021e-02, -2.87894998e-02,  2.57136934e-02,\n         4.51309904e-02,  7.01748058e-02, -3.67010124e-02,\n         4.89447452e-02,  3.89745943e-02, -3.52010317e-02,\n        -3.85755114e-02,  3.00343037e-02,  3.17766070e-02,\n        -5.99653646e-03,  1.71557218e-02,  1.27178252e-01,\n         3.72196846e-02, -4.12148088e-02, -2.58670710e-02,\n        -3.10959388e-02, -4.98331785e-02,  9.30636302e-02,\n        -2.81464122e-02,  5.03259711e-03, -6.81195110e-02,\n        -4.27546464e-02, -1.01460526e-02, -2.59721447e-02,\n        -5.82097135e-02, -1.26645509e-02,  7.14906352e-03,\n        -1.70945525e-02,  3.23584974e-02, -1.06897904e-03,\n         9.52509865e-02,  8.99419710e-02,  5.96182719e-02,\n         3.40889432e-02, -4.56328169e-02,  7.88929537e-02,\n         6.34387210e-02,  2.29437873e-02,  2.94085927e-02,\n         7.07665458e-02,  1.39793260e-02, -5.34700677e-02,\n        -4.96013761e-02,  5.66675775e-02,  1.18840148e-03,\n        -2.52927784e-02, -2.83858906e-02, -2.83715632e-02,\n        -5.73318750e-02,  1.60099380e-02,  7.16683688e-03,\n         4.79154103e-02, -2.86370721e-02,  7.36137480e-02,\n         2.76786275e-02,  9.96548869e-03, -7.76324198e-02,\n         4.16956730e-02, -1.26199454e-01,  5.88620603e-02,\n         2.11289041e-02,  1.84482057e-02, -6.58554630e-03,\n         1.32931881e-02, -4.87499870e-03,  5.51109016e-02,\n        -3.20039839e-02,  2.62511168e-02, -5.38343899e-02,\n        -2.95084380e-02, -1.02122491e-02, -7.84847289e-02,\n         6.88819364e-02, -5.68447188e-02, -6.29945099e-02,\n        -1.10077951e-02, -3.48800444e-03,  1.61593240e-02,\n         3.90462838e-02, -3.94256301e-02,  2.27504969e-03,\n         7.08260164e-02,  9.45057496e-02,  8.30818620e-03,\n         3.87418047e-02, -3.62107418e-02,  1.15002319e-03,\n         8.98572877e-02,  2.56740651e-03, -6.04101345e-02,\n         3.00282817e-02, -7.90469535e-03,  3.12308408e-02,\n         1.45252300e-02,  4.41802666e-04, -2.55379621e-02,\n        -4.77594957e-02,  3.84872518e-02, -1.11342154e-01,\n        -3.76202841e-03,  4.19020467e-02,  1.86731406e-02,\n         5.80750965e-02, -3.86900119e-02,  7.39927515e-02,\n         7.64042363e-02,  2.29547289e-03,  2.42609140e-02,\n         5.32619469e-03,  4.85382825e-02,  4.15714551e-03,\n        -3.84879187e-02, -2.21213885e-02,  5.98002747e-02,\n        -3.26567665e-02,  2.10758056e-02, -3.21484245e-02,\n         2.03605331e-02,  4.29596938e-02,  8.61171037e-02,\n         2.31660940e-02, -1.70771573e-02, -4.58785594e-02,\n         1.78677943e-02, -4.79700137e-03, -7.39908144e-02,\n         2.11383123e-02, -7.06490391e-05,  4.41937856e-02,\n         2.99198017e-03,  2.26503629e-02, -1.34825334e-02,\n         6.97503909e-02,  6.86209276e-02,  8.14184453e-03,\n        -3.60706225e-02,  2.29997709e-02,  1.13632316e-02,\n         4.97661978e-02,  1.97984781e-02,  9.92091838e-03,\n         4.25239094e-02,  5.50907862e-04,  4.41323891e-02,\n        -3.10649630e-02,  8.78404081e-03]], dtype=float32)"
     },
     "execution_count": 77,
     "metadata": {},
     "output_type": "execute_result"
    }
   ],
   "source": [
    "m[56]"
   ],
   "metadata": {
    "collapsed": false,
    "pycharm": {
     "name": "#%%\n"
    }
   }
  },
  {
   "cell_type": "code",
   "execution_count": 52,
   "outputs": [],
   "source": [
    "from sklearn.datasets import fetch_lfw_people\n",
    "lfw = fetch_lfw_people()"
   ],
   "metadata": {
    "collapsed": false,
    "pycharm": {
     "name": "#%%\n"
    }
   }
  },
  {
   "cell_type": "code",
   "execution_count": 62,
   "outputs": [
    {
     "name": "stdout",
     "output_type": "stream",
     "text": [
      "h\n",
      "h\n",
      "h\n",
      "h\n"
     ]
    }
   ],
   "source": [
    "for i in lfw['target']:\n",
    "    if i == 5:\n",
    "        print('h')"
   ],
   "metadata": {
    "collapsed": false,
    "pycharm": {
     "name": "#%%\n"
    }
   }
  },
  {
   "cell_type": "code",
   "execution_count": 64,
   "outputs": [
    {
     "data": {
      "text/plain": "(13233,)"
     },
     "execution_count": 64,
     "metadata": {},
     "output_type": "execute_result"
    }
   ],
   "source": [
    "lfw['target'].shape"
   ],
   "metadata": {
    "collapsed": false,
    "pycharm": {
     "name": "#%%\n"
    }
   }
  },
  {
   "cell_type": "code",
   "execution_count": 70,
   "outputs": [
    {
     "data": {
      "text/plain": "5749"
     },
     "execution_count": 70,
     "metadata": {},
     "output_type": "execute_result"
    }
   ],
   "source": [
    "len(set(lfw['target']))\n"
   ],
   "metadata": {
    "collapsed": false,
    "pycharm": {
     "name": "#%%\n"
    }
   }
  },
  {
   "cell_type": "code",
   "execution_count": 67,
   "outputs": [],
   "source": [
    "np.savez_compressed('datasets/lfw_13233_people_labels', numerical_labels=lfw['target'], corresponding_name_for_numberical_labels=lfw['target_names'])"
   ],
   "metadata": {
    "collapsed": false,
    "pycharm": {
     "name": "#%%\n"
    }
   }
  },
  {
   "cell_type": "code",
   "execution_count": 71,
   "outputs": [
    {
     "data": {
      "text/plain": "{1, 2}"
     },
     "execution_count": 71,
     "metadata": {},
     "output_type": "execute_result"
    }
   ],
   "source": [
    "set([1,2,34]) - set([34])"
   ],
   "metadata": {
    "collapsed": false,
    "pycharm": {
     "name": "#%%\n"
    }
   }
  },
  {
   "cell_type": "code",
   "execution_count": 75,
   "outputs": [
    {
     "data": {
      "text/plain": "52"
     },
     "execution_count": 75,
     "metadata": {},
     "output_type": "execute_result"
    }
   ],
   "source": [
    "lfw['target'][940]"
   ],
   "metadata": {
    "collapsed": false,
    "pycharm": {
     "name": "#%%\n"
    }
   }
  },
  {
   "cell_type": "code",
   "execution_count": 76,
   "outputs": [
    {
     "data": {
      "text/plain": "52"
     },
     "execution_count": 76,
     "metadata": {},
     "output_type": "execute_result"
    }
   ],
   "source": [
    "lfw['target'][964]"
   ],
   "metadata": {
    "collapsed": false,
    "pycharm": {
     "name": "#%%\n"
    }
   }
  },
  {
   "cell_type": "code",
   "execution_count": 81,
   "outputs": [
    {
     "data": {
      "text/plain": "'Kompany Arman'"
     },
     "execution_count": 81,
     "metadata": {},
     "output_type": "execute_result"
    }
   ],
   "source": [
    "t = '82839-235669 - Arman Kompany Zare - Jan 31, 2023 624 PM'\n",
    "# extract the name parts from the folder name\n",
    "parts = t.split(' - ')\n",
    "name_parts = parts[1].split(' ')\n",
    "last_name = name_parts[1]\n",
    "first_name = name_parts[0]\n",
    "\n",
    "# construct the new folder name\n",
    "f\"{last_name} {first_name}\""
   ],
   "metadata": {
    "collapsed": false,
    "pycharm": {
     "name": "#%%\n"
    }
   }
  },
  {
   "cell_type": "code",
   "execution_count": 1,
   "outputs": [],
   "source": [
    "import random"
   ],
   "metadata": {
    "collapsed": false,
    "pycharm": {
     "name": "#%%\n"
    }
   }
  },
  {
   "cell_type": "code",
   "execution_count": 21,
   "outputs": [
    {
     "data": {
      "text/plain": "[1333, 6, 6]"
     },
     "execution_count": 21,
     "metadata": {},
     "output_type": "execute_result"
    }
   ],
   "source": [
    "r = [[1333,6,6],2,3,4,5]\n",
    "random.choice(r)"
   ],
   "metadata": {
    "collapsed": false,
    "pycharm": {
     "name": "#%%\n"
    }
   }
  },
  {
   "cell_type": "code",
   "execution_count": 50,
   "outputs": [
    {
     "ename": "IndexError",
     "evalue": "list index out of range",
     "output_type": "error",
     "traceback": [
      "\u001B[0;31m---------------------------------------------------------------------------\u001B[0m",
      "\u001B[0;31mIndexError\u001B[0m                                Traceback (most recent call last)",
      "Input \u001B[0;32mIn [50]\u001B[0m, in \u001B[0;36m<cell line: 1>\u001B[0;34m()\u001B[0m\n\u001B[0;32m----> 1\u001B[0m \u001B[43mrandom\u001B[49m\u001B[38;5;241;43m.\u001B[39;49m\u001B[43mchoice\u001B[49m\u001B[43m(\u001B[49m\u001B[38;5;28;43mlist\u001B[39;49m\u001B[43m(\u001B[49m\u001B[38;5;28;43mrange\u001B[39;49m\u001B[43m(\u001B[49m\u001B[38;5;241;43m0\u001B[39;49m\u001B[43m)\u001B[49m\u001B[43m)\u001B[49m\u001B[43m)\u001B[49m\n",
      "File \u001B[0;32m~/opt/anaconda3/envs/master/lib/python3.10/random.py:378\u001B[0m, in \u001B[0;36mRandom.choice\u001B[0;34m(self, seq)\u001B[0m\n\u001B[1;32m    376\u001B[0m \u001B[38;5;124;03m\"\"\"Choose a random element from a non-empty sequence.\"\"\"\u001B[39;00m\n\u001B[1;32m    377\u001B[0m \u001B[38;5;66;03m# raises IndexError if seq is empty\u001B[39;00m\n\u001B[0;32m--> 378\u001B[0m \u001B[38;5;28;01mreturn\u001B[39;00m \u001B[43mseq\u001B[49m\u001B[43m[\u001B[49m\u001B[38;5;28;43mself\u001B[39;49m\u001B[38;5;241;43m.\u001B[39;49m\u001B[43m_randbelow\u001B[49m\u001B[43m(\u001B[49m\u001B[38;5;28;43mlen\u001B[39;49m\u001B[43m(\u001B[49m\u001B[43mseq\u001B[49m\u001B[43m)\u001B[49m\u001B[43m)\u001B[49m\u001B[43m]\u001B[49m\n",
      "\u001B[0;31mIndexError\u001B[0m: list index out of range"
     ]
    }
   ],
   "source": [
    "random.choice(list(range(0)))"
   ],
   "metadata": {
    "collapsed": false,
    "pycharm": {
     "name": "#%%\n"
    }
   }
  },
  {
   "cell_type": "code",
   "execution_count": 30,
   "outputs": [
    {
     "data": {
      "text/plain": "5"
     },
     "execution_count": 30,
     "metadata": {},
     "output_type": "execute_result"
    }
   ],
   "source": [
    "len(r)"
   ],
   "metadata": {
    "collapsed": false,
    "pycharm": {
     "name": "#%%\n"
    }
   }
  },
  {
   "cell_type": "code",
   "execution_count": 51,
   "outputs": [
    {
     "data": {
      "text/plain": "[[1333, 6, 6], 2, 3, 4, 5]"
     },
     "execution_count": 51,
     "metadata": {},
     "output_type": "execute_result"
    }
   ],
   "source": [
    "r"
   ],
   "metadata": {
    "collapsed": false,
    "pycharm": {
     "name": "#%%\n"
    }
   }
  },
  {
   "cell_type": "code",
   "execution_count": 52,
   "outputs": [
    {
     "data": {
      "text/plain": "[[1333, 6, 6], 3, 4, 5]"
     },
     "execution_count": 52,
     "metadata": {},
     "output_type": "execute_result"
    }
   ],
   "source": [
    "r.remove(2)\n",
    "r"
   ],
   "metadata": {
    "collapsed": false,
    "pycharm": {
     "name": "#%%\n"
    }
   }
  },
  {
   "cell_type": "code",
   "execution_count": 53,
   "outputs": [],
   "source": [
    "r.remove([1333,6,6])"
   ],
   "metadata": {
    "collapsed": false,
    "pycharm": {
     "name": "#%%\n"
    }
   }
  },
  {
   "cell_type": "code",
   "execution_count": 54,
   "outputs": [
    {
     "data": {
      "text/plain": "[3, 4, 5]"
     },
     "execution_count": 54,
     "metadata": {},
     "output_type": "execute_result"
    }
   ],
   "source": [
    "r"
   ],
   "metadata": {
    "collapsed": false,
    "pycharm": {
     "name": "#%%\n"
    }
   }
  },
  {
   "cell_type": "code",
   "execution_count": 55,
   "outputs": [
    {
     "ename": "ValueError",
     "evalue": "list.remove(x): x not in list",
     "output_type": "error",
     "traceback": [
      "\u001B[0;31m---------------------------------------------------------------------------\u001B[0m",
      "\u001B[0;31mValueError\u001B[0m                                Traceback (most recent call last)",
      "Input \u001B[0;32mIn [55]\u001B[0m, in \u001B[0;36m<cell line: 1>\u001B[0;34m()\u001B[0m\n\u001B[0;32m----> 1\u001B[0m \u001B[43mr\u001B[49m\u001B[38;5;241;43m.\u001B[39;49m\u001B[43mremove\u001B[49m\u001B[43m(\u001B[49m\u001B[38;5;241;43m44\u001B[39;49m\u001B[43m)\u001B[49m\n",
      "\u001B[0;31mValueError\u001B[0m: list.remove(x): x not in list"
     ]
    }
   ],
   "source": [
    "r.remove(44)"
   ],
   "metadata": {
    "collapsed": false,
    "pycharm": {
     "name": "#%%\n"
    }
   }
  },
  {
   "cell_type": "code",
   "execution_count": 1,
   "outputs": [],
   "source": [
    "r = [1,2,3]"
   ],
   "metadata": {
    "collapsed": false,
    "pycharm": {
     "name": "#%%\n"
    }
   }
  },
  {
   "cell_type": "code",
   "execution_count": 3,
   "outputs": [
    {
     "data": {
      "text/plain": "' '"
     },
     "execution_count": 3,
     "metadata": {},
     "output_type": "execute_result"
    }
   ],
   "source": [
    "str(r)[3]"
   ],
   "metadata": {
    "collapsed": false,
    "pycharm": {
     "name": "#%%\n"
    }
   }
  },
  {
   "cell_type": "code",
   "execution_count": 15,
   "outputs": [
    {
     "name": "stdout",
     "output_type": "stream",
     "text": [
      "0 []\n"
     ]
    }
   ],
   "source": [
    "import numpy as np\n",
    "p_set_clusters = np.array([[]])\n",
    "for index, cluster in enumerate(p_set_clusters):\n",
    "    print(index, cluster)"
   ],
   "metadata": {
    "collapsed": false,
    "pycharm": {
     "name": "#%%\n"
    }
   }
  },
  {
   "cell_type": "code",
   "execution_count": 13,
   "outputs": [],
   "source": [
    "from sklearn.cluster import KMeans"
   ],
   "metadata": {
    "collapsed": false,
    "pycharm": {
     "name": "#%%\n"
    }
   }
  },
  {
   "cell_type": "code",
   "execution_count": 14,
   "outputs": [
    {
     "ename": "ValueError",
     "evalue": "cannot reshape array of size 0 into shape (0)",
     "output_type": "error",
     "traceback": [
      "\u001B[0;31m---------------------------------------------------------------------------\u001B[0m",
      "\u001B[0;31mValueError\u001B[0m                                Traceback (most recent call last)",
      "Input \u001B[0;32mIn [14]\u001B[0m, in \u001B[0;36m<cell line: 1>\u001B[0;34m()\u001B[0m\n\u001B[0;32m----> 1\u001B[0m kmeans \u001B[38;5;241m=\u001B[39m KMeans(n_clusters\u001B[38;5;241m=\u001B[39m\u001B[38;5;241m10\u001B[39m, random_state\u001B[38;5;241m=\u001B[39m\u001B[38;5;241m0\u001B[39m)\u001B[38;5;241m.\u001B[39mfit(\u001B[43mp_set_clusters\u001B[49m\u001B[38;5;241;43m.\u001B[39;49m\u001B[43mreshape\u001B[49m\u001B[43m(\u001B[49m\u001B[38;5;241;43m-\u001B[39;49m\u001B[38;5;241;43m1\u001B[39;49m\u001B[43m,\u001B[49m\u001B[43m \u001B[49m\u001B[43mp_set_clusters\u001B[49m\u001B[38;5;241;43m.\u001B[39;49m\u001B[43mshape\u001B[49m\u001B[43m[\u001B[49m\u001B[38;5;241;43m-\u001B[39;49m\u001B[38;5;241;43m1\u001B[39;49m\u001B[43m]\u001B[49m\u001B[43m)\u001B[49m )\n",
      "\u001B[0;31mValueError\u001B[0m: cannot reshape array of size 0 into shape (0)"
     ]
    }
   ],
   "source": [
    "kmeans = KMeans(n_clusters=10, random_state=0).fit(p_set_clusters.reshape(-1, p_set_clusters.shape[-1]) )"
   ],
   "metadata": {
    "collapsed": false,
    "pycharm": {
     "name": "#%%\n"
    }
   }
  },
  {
   "cell_type": "code",
   "execution_count": null,
   "outputs": [],
   "source": [],
   "metadata": {
    "collapsed": false,
    "pycharm": {
     "name": "#%%\n"
    }
   }
  }
 ],
 "metadata": {
  "kernelspec": {
   "display_name": "Python 3",
   "language": "python",
   "name": "python3"
  },
  "language_info": {
   "codemirror_mode": {
    "name": "ipython",
    "version": 2
   },
   "file_extension": ".py",
   "mimetype": "text/x-python",
   "name": "python",
   "nbconvert_exporter": "python",
   "pygments_lexer": "ipython2",
   "version": "2.7.6"
  }
 },
 "nbformat": 4,
 "nbformat_minor": 0
}